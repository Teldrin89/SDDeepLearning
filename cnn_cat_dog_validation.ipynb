{
 "cells": [
  {
   "cell_type": "code",
   "execution_count": null,
   "metadata": {
    "collapsed": true
   },
   "outputs": [],
   "source": [
    "# the jupyter notebook file prepared for validation of the model for categorization\n",
    "# of dogs and cats but also check the jupyter notebook \n",
    "# feasibility in intellij in general\n",
    "# the part of the validation will look the same as it has to prepare the test image\n",
    "# in the same way\n",
    "# import tensorflow and cv2 libraries\n",
    "import cv2\n",
    "import tensorflow as tf\n",
    "\n",
    "# put the same categories as in training dataset - keep the same order!\n",
    "CATEGORIES = [\"Dog\", \"Cat\"]\n",
    "\n",
    "\n",
    "# define function for filepath of image and pre-processing\n",
    "def prepare(filepath):\n",
    "    # use the same size as in training script\n",
    "    IMG_SIZE = 50\n",
    "    # load the image as array with cv2 as gray scale\n",
    "    img_array = cv2.imread(filepath, cv2.IMREAD_GRAYSCALE)\n",
    "    # resize the array to the image size\n",
    "    new_array = cv2.resize(img_array, (IMG_SIZE, IMG_SIZE))\n",
    "    # return the proper array (image) with reshape\n",
    "    return new_array.reshape(-1, IMG_SIZE, IMG_SIZE, 1)\n",
    "\n",
    "\n",
    "# load saved model\n",
    "model = tf.keras.models.load_model(\"64x3-CNN.model\")\n",
    "# run the prediction for selected image - folder inside the project dir\n",
    "# predict function always takes a list!\n",
    "prediction = model.predict([prepare(\"SDDeepLearning_Datasets_TEST/0.jpg\")])\n",
    "# printout the prediction\n",
    "print(prediction)\n"
   ]
  }
 ],
 "metadata": {
  "kernelspec": {
   "display_name": "Python 2",
   "language": "python",
   "name": "python2"
  },
  "language_info": {
   "codemirror_mode": {
    "name": "ipython",
    "version": 2
   },
   "file_extension": ".py",
   "mimetype": "text/x-python",
   "name": "python",
   "nbconvert_exporter": "python",
   "pygments_lexer": "ipython2",
   "version": "2.7.6"
  }
 },
 "nbformat": 4,
 "nbformat_minor": 0
}
